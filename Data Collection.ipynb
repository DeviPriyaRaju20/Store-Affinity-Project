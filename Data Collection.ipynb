{
 "cells": [
  {
   "cell_type": "code",
   "execution_count": null,
   "metadata": {},
   "outputs": [
    {
     "name": "stdout",
     "output_type": "stream",
     "text": [
      "Getting into the spirit with gifting! This one was bought with complimentary Kohls cash from Influenster. Happy Hol\\u2026 https:\\/\\/t.co\\/fAiTGfG0Nx\",\"display_text_range\":[0,140]\n",
      "RT @AliciLee: Okay Twitter, I need some help. I have a little guy who is obssesed with his blanket. Yes, he is older..he is also disabled.\\u2026\"\n",
      "RT @ThunkSupreme: These were good years in Vegas, 2011-2012. You got outta bed on Sundays not for church but for the swap meet, you put on\\u2026\"\n",
      "RT @crzylifelittles: There are some toys that never get old to my kids, like LEGO &amp; Melissa &amp; Doug toys. Find more of our favorite brands a\\u2026\"\n"
     ]
    }
   ],
   "source": [
    "#Collecting tweets\n",
    "'''This code snippet is not executed fully in this file.This is only for reference. As I had to repeat the same code again for 3 stores seperately, \n",
    "I had to run this snippet several times and on different days to collect sufficient data.'''\n",
    "from tweepy.streaming import StreamListener\n",
    "from tweepy import OAuthHandler\n",
    "from tweepy import Stream\n",
    "import tweepy\n",
    "from tweepy import Stream\n",
    "from tweepy import OAuthHandler\n",
    "from tweepy.streaming import StreamListener\n",
    "import time\n",
    "import json\n",
    "\n",
    "with open('twitter_credentials.json') as cred_data: #Loading twitter credentials\n",
    "    \n",
    "    info = json.load(cred_data)\n",
    "    consumer_key = info['CONSUMER_KEY']\n",
    "    consumer_secret = info['CONSUMER_SECRET']\n",
    "    access_key = info['ACCESS_KEY']\n",
    "    access_secret = info['ACCESS_SECRET']\n",
    "\n",
    "class listener(StreamListener):\n",
    "    def on_data(self,data):\n",
    "        try:\n",
    "            tweet=data.split(',\"text\":\"')[1].split(',\"source\":')[0] #Writing the texts and created time only in the csv.\n",
    "            print(tweet)\n",
    "            saveThis=str(time.time())+','+tweet  \n",
    "            saveFile=open(\"Kohls_search.csv\",'a')\n",
    "            saveFile.write(saveThis)\n",
    "            saveFile.write('\\n')\n",
    "            saveFile.close()\n",
    "            return True\n",
    "        except BaseException as e:\n",
    "            print(\"failed ondata,\",str(e))\n",
    "            time.sleep(5)\n",
    "    def on_error(self,status):\n",
    "        print(status)\n",
    "\n",
    "auth=OAuthHandler(consumer_key,consumer_secret)\n",
    "auth.set_access_token(access_key,access_secret)\n",
    "twitterStream=Stream(auth,listener())\n",
    "twitterStream.filter(track=[\"Kohls\",\"#Kohls\",\"kohls\"], languages=[\"en\"]) #Executed this line to collect tweets reagrding Kohls\n",
    "#twitterStream.filter(track=[\"Macys\",\"#macys\",\"macys\",\"#Macys\"], languages=[\"en\"]) #Executed this line to collect tweets reagrding Macys\n",
    "#twitterStream.filter(track=[\"JCPenney\",\"#JCPenney\",\"jcpenney\"], languages=[\"en\"]) #Executed this line to collect tweets regarding JCPenney."
   ]
  },
  {
   "cell_type": "code",
   "execution_count": null,
   "metadata": {},
   "outputs": [],
   "source": []
  }
 ],
 "metadata": {
  "kernelspec": {
   "display_name": "Python 3",
   "language": "python",
   "name": "python3"
  },
  "language_info": {
   "codemirror_mode": {
    "name": "ipython",
    "version": 3
   },
   "file_extension": ".py",
   "mimetype": "text/x-python",
   "name": "python",
   "nbconvert_exporter": "python",
   "pygments_lexer": "ipython3",
   "version": "3.6.5"
  }
 },
 "nbformat": 4,
 "nbformat_minor": 2
}
